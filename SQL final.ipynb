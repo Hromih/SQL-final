{
 "cells": [
  {
   "cell_type": "markdown",
   "metadata": {},
   "source": [
    "## Описание проекта"
   ]
  },
  {
   "cell_type": "markdown",
   "metadata": {},
   "source": [
    "Коронавирус застал мир врасплох, изменив привычный порядок вещей. В свободное время жители городов больше не выходят на улицу, не посещают кафе и торговые центры. Зато стало больше времени для книг. Это заметили стартаперы — и бросились создавать приложения для тех, кто любит читать.   \n",
    "\n",
    "Наша компания решила быть на волне и купила крупный сервис для чтения книг по подписке. Наша первая задача как аналитика — проанализировать базу данных. В ней — информация о книгах, издательствах, авторах, а также пользовательские обзоры книг. "
   ]
  },
  {
   "cell_type": "markdown",
   "metadata": {},
   "source": [
    "## Цель проекта:"
   ]
  },
  {
   "cell_type": "markdown",
   "metadata": {},
   "source": [
    "Анализ базы данных, содержащей информацию о книгах, издательствах, авторах и пользовательских обзорах книг."
   ]
  },
  {
   "cell_type": "markdown",
   "metadata": {},
   "source": [
    "##  Подключение к БД"
   ]
  },
  {
   "cell_type": "code",
   "execution_count": 6,
   "metadata": {},
   "outputs": [],
   "source": [
    "# импортируем библиотеки\n",
    "import pandas as pd\n",
    "from sqlalchemy import text, create_engine\n",
    "from IPython.display import Image"
   ]
  },
  {
   "cell_type": "code",
   "execution_count": 7,
   "metadata": {},
   "outputs": [],
   "source": [
    "# устанавливаем параметры\n",
    "db_config = {'user': 'praktikum_student', # имя пользователя\n",
    "'pwd': 'Sdf4$2;d-d30pp', # пароль\n",
    "'host': 'rc1b-wcoijxj3yxfsf3fs.mdb.yandexcloud.net',\n",
    "'port': 6432, # порт подключения\n",
    "'db': 'data-analyst-final-project-db'} # название базы данных\n",
    "connection_string = 'postgresql://{user}:{pwd}@{host}:{port}/{db}'.format(**db_config)\n"
   ]
  },
  {
   "cell_type": "code",
   "execution_count": 8,
   "metadata": {},
   "outputs": [],
   "source": [
    "# сохраняем коннектор\n",
    "engine = create_engine(connection_string, connect_args={'sslmode':'require'})"
   ]
  },
  {
   "cell_type": "code",
   "execution_count": 9,
   "metadata": {},
   "outputs": [],
   "source": [
    "con=engine.connect()"
   ]
  },
  {
   "cell_type": "code",
   "execution_count": 10,
   "metadata": {},
   "outputs": [
    {
     "ename": "NameError",
     "evalue": "name 'query' is not defined",
     "output_type": "error",
     "traceback": [
      "\u001b[0;31m---------------------------------------------------------------------------\u001b[0m",
      "\u001b[0;31mNameError\u001b[0m                                 Traceback (most recent call last)",
      "\u001b[0;32m/tmp/ipykernel_391/2465618849.py\u001b[0m in \u001b[0;36m<module>\u001b[0;34m\u001b[0m\n\u001b[0;32m----> 1\u001b[0;31m \u001b[0mpd\u001b[0m\u001b[0;34m.\u001b[0m\u001b[0mio\u001b[0m\u001b[0;34m.\u001b[0m\u001b[0msql\u001b[0m\u001b[0;34m.\u001b[0m\u001b[0mread_sql\u001b[0m\u001b[0;34m(\u001b[0m\u001b[0msql\u001b[0m\u001b[0;34m=\u001b[0m\u001b[0mtext\u001b[0m\u001b[0;34m(\u001b[0m\u001b[0mquery\u001b[0m\u001b[0;34m)\u001b[0m\u001b[0;34m,\u001b[0m \u001b[0mcon\u001b[0m \u001b[0;34m=\u001b[0m \u001b[0mcon\u001b[0m\u001b[0;34m)\u001b[0m\u001b[0;34m\u001b[0m\u001b[0;34m\u001b[0m\u001b[0m\n\u001b[0m",
      "\u001b[0;31mNameError\u001b[0m: name 'query' is not defined"
     ]
    }
   ],
   "source": [
    "pd.io.sql.read_sql(sql=text(query), con = con)"
   ]
  },
  {
   "cell_type": "code",
   "execution_count": null,
   "metadata": {},
   "outputs": [],
   "source": [
    "# Функция выполнения sql запроса\n",
    "\n",
    "def func(sql):\n",
    "    return pd.read_sql(sql,con=engine)"
   ]
  },
  {
   "cell_type": "code",
   "execution_count": null,
   "metadata": {},
   "outputs": [],
   "source": [
    "# ER-Диаграмма\n",
    "Image(url='https://concrete-web-bad.notion.site/image/https%3A%2F%2Fs3-us-west-2.amazonaws.com%2Fsecure.notion-static.com%2F069818d1-0e5c-4d87-a461-0de584ab9c33%2FUntitled_(33).png?id=bd53c8db-b4fd-49eb-8cc9-572ebb3c9163&table=block&spaceId=9e4bd47b-c6e6-4ca3-bcee-279794b47315&width=2000&userId=&cache=v2')"
   ]
  },
  {
   "cell_type": "markdown",
   "metadata": {},
   "source": [
    "## Вывод первых строк таблиц"
   ]
  },
  {
   "cell_type": "code",
   "execution_count": null,
   "metadata": {},
   "outputs": [],
   "source": [
    "# для книг\n",
    "sql_books = '''\n",
    "SELECT *\n",
    "FROM books\n",
    "'''\n",
    "books = func(sql_books)\n",
    "books.head()"
   ]
  },
  {
   "cell_type": "code",
   "execution_count": null,
   "metadata": {},
   "outputs": [],
   "source": [
    "# для авторов\n",
    "sql_authors = '''\n",
    "SELECT *\n",
    "FROM authors\n",
    "'''\n",
    "authors = func(sql_authors)\n",
    "authors.head()"
   ]
  },
  {
   "cell_type": "code",
   "execution_count": null,
   "metadata": {},
   "outputs": [],
   "source": [
    "# для рейтингов\n",
    "sql_ratings = '''\n",
    "SELECT *\n",
    "FROM ratings\n",
    "'''\n",
    "ratings = func(sql_ratings)\n",
    "ratings.head()"
   ]
  },
  {
   "cell_type": "code",
   "execution_count": null,
   "metadata": {},
   "outputs": [],
   "source": [
    "# для обзоров\n",
    "sql_reviews = '''\n",
    "SELECT *\n",
    "FROM reviews\n",
    "'''\n",
    "reviews = func(sql_reviews)\n",
    "reviews.head()"
   ]
  },
  {
   "cell_type": "code",
   "execution_count": null,
   "metadata": {},
   "outputs": [],
   "source": [
    "# для издательств\n",
    "sql_publishers = '''\n",
    "SELECT *\n",
    "FROM publishers\n",
    "'''\n",
    "publishers = func(sql_publishers)\n",
    "publishers.head()"
   ]
  },
  {
   "cell_type": "markdown",
   "metadata": {},
   "source": [
    "## Количество книг, вышедших после 1 января 2000 года"
   ]
  },
  {
   "cell_type": "code",
   "execution_count": null,
   "metadata": {},
   "outputs": [],
   "source": [
    "query = '''\n",
    "SELECT COUNT(book_id)\n",
    "FROM books \n",
    "WHERE publication_date > '2000-01-01'\n",
    "'''\n",
    "\n",
    "func(query)"
   ]
  },
  {
   "cell_type": "markdown",
   "metadata": {},
   "source": [
    "После первого января 2000 года вышло 819 книг"
   ]
  },
  {
   "cell_type": "markdown",
   "metadata": {},
   "source": [
    "## Количество обзоров и средняя оценка для каждой книги"
   ]
  },
  {
   "cell_type": "code",
   "execution_count": null,
   "metadata": {},
   "outputs": [],
   "source": [
    "query = '''\n",
    "SELECT books.book_id as id,\n",
    "       books.title as title,\n",
    "       AVG(ratings.rating) as avg_rating,\n",
    "       COUNT(DISTINCT reviews.review_id) as reviews_count\n",
    "FROM books\n",
    "LEFT JOIN reviews on reviews.book_id = books.book_id\n",
    "LEFT JOIN ratings on ratings.book_id = books.book_id\n",
    "GROUP BY title, id\n",
    "ORDER BY reviews_count DESC\n",
    "'''\n",
    "func(query)"
   ]
  },
  {
   "cell_type": "markdown",
   "metadata": {},
   "source": [
    "Для каждой книги показали средний рейтинг и количество обзоров. Лидером по обзорам является книга Twilight (Twilight #1), при этом она обладает не очень высоким рейтингом, всего 3.66."
   ]
  },
  {
   "cell_type": "markdown",
   "metadata": {},
   "source": [
    "## Определение издательства, которое выпустило наибольшее число книг толще 50 страниц"
   ]
  },
  {
   "cell_type": "code",
   "execution_count": null,
   "metadata": {},
   "outputs": [],
   "source": [
    "query = '''\n",
    "SELECT pub.publisher as publisher_name,\n",
    "       COUNT(DISTINCT books.book_id) as books_count\n",
    "FROM publishers as pub\n",
    " LEFT JOIN books on pub.publisher_id = books.publisher_id\n",
    "WHERE books.num_pages > 50\n",
    "GROUP BY publisher_name\n",
    "ORDER BY books_count DESC\n",
    "LIMIT 10;\n",
    "'''\n",
    "func(query)"
   ]
  },
  {
   "cell_type": "markdown",
   "metadata": {},
   "source": [
    "Лидером по количеству изданных книг толще 50 страниц является издательство Penguin Books"
   ]
  },
  {
   "cell_type": "markdown",
   "metadata": {},
   "source": [
    "## Определение автора с самой высокой средней оценкой книг"
   ]
  },
  {
   "cell_type": "markdown",
   "metadata": {},
   "source": [
    "Здесь будут учитываться только книги с 50 и более оценками"
   ]
  },
  {
   "cell_type": "code",
   "execution_count": null,
   "metadata": {},
   "outputs": [],
   "source": [
    "query = '''\n",
    "SELECT authors.author,\n",
    "       ROUND(AVG(ratings.rating),2) AS avg_rating\n",
    "                   \n",
    "FROM ratings            \n",
    "LEFT JOIN books AS books ON ratings.book_id=books.book_id\n",
    "LEFT JOIN authors AS authors ON books.author_id=authors.author_id\n",
    "WHERE ratings.book_id IN (SELECT ratings.book_id\n",
    "                          FROM ratings\n",
    "                          GROUP BY ratings.book_id\n",
    "                          HAVING COUNT(ratings.book_id) >= 50)\n",
    "GROUP BY authors.author\n",
    "ORDER BY avg_rating DESC\n",
    "LIMIT 1\n",
    "'''\n",
    "func(query)"
   ]
  },
  {
   "cell_type": "markdown",
   "metadata": {},
   "source": [
    "Автором с самой высокой средней оценкой книг по заданому критирею явлется J.K. Rowling/Mary GrandPré имеет средний рейтинг 4.29"
   ]
  },
  {
   "cell_type": "markdown",
   "metadata": {},
   "source": [
    "##  Среднее количество обзоров от пользователей, которые поставили больше 48 оценок"
   ]
  },
  {
   "cell_type": "code",
   "execution_count": null,
   "metadata": {},
   "outputs": [],
   "source": [
    "query = '''\n",
    "WITH t as\n",
    "    (SELECT username,\n",
    "            COUNT(review_id) as review_count\n",
    "     FROM reviews\n",
    "     WHERE username in (SELECT username\n",
    "                         FROM ratings\n",
    "                         GROUP BY username\n",
    "                         HAVING COUNT(rating) > 48)\n",
    "    GROUP BY username)\n",
    "    \n",
    "SELECT AVG(review_count)\n",
    "FROM t\n",
    "       \n",
    "'''\n",
    "func(query)"
   ]
  },
  {
   "cell_type": "markdown",
   "metadata": {},
   "source": [
    "Среднее количество обзоров пользователей, которые поставили более чем по 48 оценок, равно 24."
   ]
  },
  {
   "cell_type": "markdown",
   "metadata": {},
   "source": [
    "## Общий вывод"
   ]
  },
  {
   "cell_type": "markdown",
   "metadata": {},
   "source": [
    "После первого января 2000 года вышло 819 книг;   \n",
    "Лидером по обзорам является книга Twilight (Twilight #1), при этом она обладает не очень высоким рейтингом, всего 3.66;   \n",
    "Лидером по количеству изданных книг толще 50 страниц является издательство Penguin Books;   \n",
    "Автором с самой высокой средней оценкой книг по заданому критирею явлется J.K. Rowling/Mary GrandPré имеет средний рейтинг 4.29;   \n",
    "Среднее количество обзоров пользователей, которые поставили более чем по 48 оценок, равно 24."
   ]
  }
 ],
 "metadata": {
  "ExecuteTimeLog": [
   {
    "duration": 471,
    "start_time": "2023-12-03T09:25:23.888Z"
   },
   {
    "duration": 3,
    "start_time": "2023-12-03T09:25:33.631Z"
   },
   {
    "duration": 7768,
    "start_time": "2023-12-03T09:25:42.079Z"
   },
   {
    "duration": 3,
    "start_time": "2023-12-03T09:25:58.903Z"
   },
   {
    "duration": 183,
    "start_time": "2023-12-03T09:26:07.279Z"
   },
   {
    "duration": 48,
    "start_time": "2023-12-03T09:26:14.936Z"
   },
   {
    "duration": 2,
    "start_time": "2023-12-03T10:07:17.764Z"
   },
   {
    "duration": 9,
    "start_time": "2023-12-03T10:07:17.767Z"
   },
   {
    "duration": 4,
    "start_time": "2023-12-03T10:07:17.778Z"
   },
   {
    "duration": 202,
    "start_time": "2023-12-03T10:07:17.783Z"
   },
   {
    "duration": 42,
    "start_time": "2023-12-03T10:07:17.986Z"
   },
   {
    "duration": 2,
    "start_time": "2023-12-03T10:08:03.906Z"
   },
   {
    "duration": 3,
    "start_time": "2023-12-03T10:09:13.044Z"
   },
   {
    "duration": 60,
    "start_time": "2023-12-03T10:10:29.549Z"
   },
   {
    "duration": 2,
    "start_time": "2023-12-03T10:11:03.479Z"
   },
   {
    "duration": 4,
    "start_time": "2023-12-03T10:11:03.483Z"
   },
   {
    "duration": 4,
    "start_time": "2023-12-03T10:11:03.488Z"
   },
   {
    "duration": 183,
    "start_time": "2023-12-03T10:11:03.494Z"
   },
   {
    "duration": 42,
    "start_time": "2023-12-03T10:11:03.678Z"
   },
   {
    "duration": 2,
    "start_time": "2023-12-03T10:11:03.722Z"
   },
   {
    "duration": 16,
    "start_time": "2023-12-03T10:11:03.725Z"
   },
   {
    "duration": 205,
    "start_time": "2023-12-03T10:11:03.742Z"
   },
   {
    "duration": 84,
    "start_time": "2023-12-03T10:11:24.805Z"
   },
   {
    "duration": 124,
    "start_time": "2023-12-03T10:11:36.805Z"
   },
   {
    "duration": 120,
    "start_time": "2023-12-03T10:12:00.926Z"
   },
   {
    "duration": 72,
    "start_time": "2023-12-03T10:12:13.078Z"
   },
   {
    "duration": 71,
    "start_time": "2023-12-03T10:13:16.943Z"
   },
   {
    "duration": 109,
    "start_time": "2023-12-03T10:18:17.616Z"
   },
   {
    "duration": 73,
    "start_time": "2023-12-03T10:21:14.983Z"
   },
   {
    "duration": 76,
    "start_time": "2023-12-03T10:26:45.164Z"
   },
   {
    "duration": 76,
    "start_time": "2023-12-03T10:30:17.632Z"
   },
   {
    "duration": 498,
    "start_time": "2024-03-08T19:25:55.864Z"
   },
   {
    "duration": 3,
    "start_time": "2024-03-08T19:25:56.364Z"
   },
   {
    "duration": 7864,
    "start_time": "2024-03-08T19:25:56.369Z"
   },
   {
    "duration": 174,
    "start_time": "2024-03-08T19:26:04.235Z"
   },
   {
    "duration": 71,
    "start_time": "2024-03-08T19:26:04.411Z"
   },
   {
    "duration": 0,
    "start_time": "2024-03-08T19:26:04.484Z"
   },
   {
    "duration": 0,
    "start_time": "2024-03-08T19:26:04.485Z"
   },
   {
    "duration": 0,
    "start_time": "2024-03-08T19:26:04.486Z"
   },
   {
    "duration": 0,
    "start_time": "2024-03-08T19:26:04.487Z"
   },
   {
    "duration": 0,
    "start_time": "2024-03-08T19:26:04.488Z"
   },
   {
    "duration": 0,
    "start_time": "2024-03-08T19:26:04.489Z"
   },
   {
    "duration": 0,
    "start_time": "2024-03-08T19:26:04.491Z"
   },
   {
    "duration": 0,
    "start_time": "2024-03-08T19:26:04.492Z"
   },
   {
    "duration": 0,
    "start_time": "2024-03-08T19:26:04.493Z"
   },
   {
    "duration": 0,
    "start_time": "2024-03-08T19:26:04.494Z"
   },
   {
    "duration": 0,
    "start_time": "2024-03-08T19:26:04.495Z"
   },
   {
    "duration": 0,
    "start_time": "2024-03-08T19:26:04.496Z"
   },
   {
    "duration": 4,
    "start_time": "2024-03-08T19:27:17.936Z"
   },
   {
    "duration": 19,
    "start_time": "2024-03-08T19:27:17.942Z"
   },
   {
    "duration": 12,
    "start_time": "2024-03-08T19:27:17.962Z"
   },
   {
    "duration": 186,
    "start_time": "2024-03-08T19:27:17.976Z"
   },
   {
    "duration": 8,
    "start_time": "2024-03-08T19:27:18.163Z"
   },
   {
    "duration": 0,
    "start_time": "2024-03-08T19:27:18.173Z"
   },
   {
    "duration": 0,
    "start_time": "2024-03-08T19:27:18.174Z"
   },
   {
    "duration": 0,
    "start_time": "2024-03-08T19:27:18.174Z"
   },
   {
    "duration": 0,
    "start_time": "2024-03-08T19:27:18.175Z"
   },
   {
    "duration": 0,
    "start_time": "2024-03-08T19:27:18.176Z"
   },
   {
    "duration": 0,
    "start_time": "2024-03-08T19:27:18.178Z"
   },
   {
    "duration": 0,
    "start_time": "2024-03-08T19:27:18.178Z"
   },
   {
    "duration": 0,
    "start_time": "2024-03-08T19:27:18.180Z"
   },
   {
    "duration": 0,
    "start_time": "2024-03-08T19:27:18.180Z"
   },
   {
    "duration": 0,
    "start_time": "2024-03-08T19:27:18.181Z"
   },
   {
    "duration": 0,
    "start_time": "2024-03-08T19:27:18.183Z"
   },
   {
    "duration": 0,
    "start_time": "2024-03-08T19:27:18.184Z"
   }
  ],
  "kernelspec": {
   "display_name": "Python 3 (ipykernel)",
   "language": "python",
   "name": "python3"
  },
  "language_info": {
   "codemirror_mode": {
    "name": "ipython",
    "version": 3
   },
   "file_extension": ".py",
   "mimetype": "text/x-python",
   "name": "python",
   "nbconvert_exporter": "python",
   "pygments_lexer": "ipython3",
   "version": "3.9.5"
  },
  "toc": {
   "base_numbering": 1,
   "nav_menu": {},
   "number_sections": true,
   "sideBar": true,
   "skip_h1_title": true,
   "title_cell": "Table of Contents",
   "title_sidebar": "Contents",
   "toc_cell": false,
   "toc_position": {},
   "toc_section_display": true,
   "toc_window_display": false
  }
 },
 "nbformat": 4,
 "nbformat_minor": 2
}
